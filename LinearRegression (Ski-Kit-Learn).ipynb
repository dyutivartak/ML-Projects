{
  "nbformat": 4,
  "nbformat_minor": 0,
  "metadata": {
    "colab": {
      "provenance": [],
      "collapsed_sections": [],
      "authorship_tag": "ABX9TyMu7EGgLHMplbCbZ3viTNW9",
      "include_colab_link": true
    },
    "kernelspec": {
      "name": "python3",
      "display_name": "Python 3"
    },
    "language_info": {
      "name": "python"
    }
  },
  "cells": [
    {
      "cell_type": "markdown",
      "metadata": {
        "id": "view-in-github",
        "colab_type": "text"
      },
      "source": [
        "<a href=\"https://colab.research.google.com/github/dyutivartak/ML-Projects/blob/main/LinearRegression%20(Ski-Kit-Learn).ipynb\" target=\"_parent\"><img src=\"https://colab.research.google.com/assets/colab-badge.svg\" alt=\"Open In Colab\"/></a>"
      ]
    },
    {
      "cell_type": "code",
      "execution_count": null,
      "metadata": {
        "id": "TBJp_TAxZ45r"
      },
      "outputs": [],
      "source": [
        "import numpy as np\n",
        "import pandas as pd\n",
        "import matplotlib.pyplot as plt"
      ]
    },
    {
      "cell_type": "code",
      "source": [
        "x=np.random.rand(100)\n",
        "y=[]\n",
        "for i in x:\n",
        "  y.append(np.random.randint(1,15)*i + (1+np.random.rand(1)))"
      ],
      "metadata": {
        "id": "qdEqyBquZ-h7"
      },
      "execution_count": null,
      "outputs": []
    },
    {
      "cell_type": "code",
      "source": [
        "plt.figure(figsize=(12,6))\n",
        "plt.scatter(x, y)\n",
        "plt.title('Scatterplot of Data created')\n",
        "plt.show()"
      ],
      "metadata": {
        "colab": {
          "base_uri": "https://localhost:8080/",
          "height": 390
        },
        "id": "zr8XxrIzaIYS",
        "outputId": "3be531ad-7118-473b-a599-9ef245fbd87f"
      },
      "execution_count": null,
      "outputs": [
        {
          "output_type": "display_data",
          "data": {
            "text/plain": [
              "<Figure size 864x432 with 1 Axes>"
            ],
            "image/png": "[encoded data removed]"
          },
          "metadata": {
            "needs_background": "light"
          }
        }
      ]
    },
    {
      "cell_type": "code",
      "source": [
        "x_train = np.array(x).reshape(-1, 1)\n",
        "y_true = np.array(y).reshape(-1, 1)"
      ],
      "metadata": {
        "id": "11vsNihKaKAY"
      },
      "execution_count": null,
      "outputs": []
    },
    {
      "cell_type": "markdown",
      "source": [
        "***MEAN SQUARED ERROR***"
      ],
      "metadata": {
        "id": "KGe6klHwaNk0"
      }
    },
    {
      "cell_type": "code",
      "source": [
        "def mse(y_true,y_pred):\n",
        "  error=0\n",
        "  for i in range(0,len(y_true)):\n",
        "    error= error + (((y_true[i]-y_pred[i])**2)/len(y_true))\n",
        "  return error"
      ],
      "metadata": {
        "id": "Kfm8jZXFaLkr"
      },
      "execution_count": null,
      "outputs": []
    },
    {
      "cell_type": "markdown",
      "source": [
        "***LINEAR REGRESSION***"
      ],
      "metadata": {
        "id": "uvEtm3vhaRyH"
      }
    },
    {
      "cell_type": "code",
      "source": [
        "from sklearn.linear_model import LinearRegression\n",
        "r = LinearRegression().fit(x_train, y_true)\n",
        "print(LinearRegression.score(r, x_train, y_true))\n",
        "print(r.coef_)\n",
        "print(r.intercept_)"
      ],
      "metadata": {
        "colab": {
          "base_uri": "https://localhost:8080/"
        },
        "id": "n-iV68kaaNK7",
        "outputId": "5825be2f-7da9-42ac-b6c2-f7ea345ce7d7"
      },
      "execution_count": null,
      "outputs": [
        {
          "output_type": "stream",
          "name": "stdout",
          "text": [
            "0.6340041660235817\n",
            "[[8.60713491]]\n",
            "[0.95661325]\n"
          ]
        }
      ]
    },
    {
      "cell_type": "code",
      "source": [
        "y_pred = r.predict(x_train)\n",
        "plt.scatter(x, y) \n",
        "plt.plot([min(x), max(x)], [min(y_pred), max(y_pred)], color='red') \n",
        "plt.show()"
      ],
      "metadata": {
        "colab": {
          "base_uri": "https://localhost:8080/",
          "height": 265
        },
        "id": "0GeJBYVUaRN1",
        "outputId": "1a575642-8182-4eb3-b61f-a214b260a94a"
      },
      "execution_count": null,
      "outputs": [
        {
          "output_type": "display_data",
          "data": {
            "text/plain": [
              "<Figure size 432x288 with 1 Axes>"
            ],
            "image/png": "[encoded data removed]"
          },
          "metadata": {
            "needs_background": "light"
          }
        }
      ]
    },
    {
      "cell_type": "code",
      "source": [
        "mse(y_true,y_pred)"
      ],
      "metadata": {
        "colab": {
          "base_uri": "https://localhost:8080/"
        },
        "id": "PL_k_abHaYRj",
        "outputId": "b33d50af-7c0a-4256-8945-f409dddcff5d"
      },
      "execution_count": null,
      "outputs": [
        {
          "output_type": "execute_result",
          "data": {
            "text/plain": [
              "array([3.6427091])"
            ]
          },
          "metadata": {},
          "execution_count": 8
        }
      ]
    },
    {
      "cell_type": "markdown",
      "source": [
        "***RIDGE REGRESSION***"
      ],
      "metadata": {
        "id": "c91E0E0Eac7i"
      }
    },
    {
      "cell_type": "code",
      "source": [
        "from sklearn.linear_model import Ridge\n",
        "ridge = Ridge(alpha=0.01)\n",
        "ridge.fit(x_train, y_true)\n",
        "print(ridge.score(x_train, y_true))\n",
        "print(ridge.coef_)\n",
        "print(ridge.intercept_)"
      ],
      "metadata": {
        "colab": {
          "base_uri": "https://localhost:8080/"
        },
        "id": "xlmm5H54aZkS",
        "outputId": "3bc54235-1f51-45cf-ba85-97372080eb9f"
      },
      "execution_count": null,
      "outputs": [
        {
          "output_type": "stream",
          "name": "stdout",
          "text": [
            "0.6340032942042663\n",
            "[[8.59704178]]\n",
            "[0.96152523]\n"
          ]
        }
      ]
    },
    {
      "cell_type": "code",
      "source": [
        "y_pred = ridge.predict(x_train)\n",
        "plt.scatter(x, y) \n",
        "plt.plot([min(x), max(x)], [min(y_pred), max(y_pred)], color='red') \n",
        "plt.show()"
      ],
      "metadata": {
        "colab": {
          "base_uri": "https://localhost:8080/",
          "height": 265
        },
        "id": "fyk2ycOsaa4Y",
        "outputId": "7bc0bd4a-d65b-434c-f691-2ae66101cb7b"
      },
      "execution_count": null,
      "outputs": [
        {
          "output_type": "display_data",
          "data": {
            "text/plain": [
              "<Figure size 432x288 with 1 Axes>"
            ],
            "image/png": "[encoded data removed]"
          },
          "metadata": {
            "needs_background": "light"
          }
        }
      ]
    },
    {
      "cell_type": "code",
      "source": [
        "mse(y_true,y_pred)"
      ],
      "metadata": {
        "colab": {
          "base_uri": "https://localhost:8080/"
        },
        "id": "cyaffbxFaf_c",
        "outputId": "48fc39e2-8436-4336-f3ac-95a191b4ec2a"
      },
      "execution_count": null,
      "outputs": [
        {
          "output_type": "execute_result",
          "data": {
            "text/plain": [
              "array([3.64271777])"
            ]
          },
          "metadata": {},
          "execution_count": 11
        }
      ]
    },
    {
      "cell_type": "markdown",
      "source": [
        "***LASSO REGRESSION***"
      ],
      "metadata": {
        "id": "ocbEk1HGakgO"
      }
    },
    {
      "cell_type": "code",
      "source": [
        "from sklearn.linear_model import Lasso\n",
        "lasso = Lasso(alpha=0.01)\n",
        "lasso.fit(x_train, y_true)\n",
        "print(lasso.score(x_train, y_true))\n",
        "print(lasso.coef_)\n",
        "print(lasso.intercept_)"
      ],
      "metadata": {
        "colab": {
          "base_uri": "https://localhost:8080/"
        },
        "id": "r1XIJ6jiahac",
        "outputId": "704a3235-929b-4224-fb62-47b406e3f4eb"
      },
      "execution_count": null,
      "outputs": [
        {
          "output_type": "stream",
          "name": "stdout",
          "text": [
            "0.633886207748776\n",
            "[8.48973257]\n",
            "[1.01374898]\n"
          ]
        }
      ]
    },
    {
      "cell_type": "code",
      "source": [
        "y_pred = lasso.predict(x_train)\n",
        "plt.scatter(x, y) \n",
        "plt.plot([min(x), max(x)], [min(y_pred), max(y_pred)], color='red') \n",
        "plt.show()"
      ],
      "metadata": {
        "colab": {
          "base_uri": "https://localhost:8080/",
          "height": 265
        },
        "id": "nYKjzCLGai4S",
        "outputId": "16f80116-b362-444f-dc3f-f13468a4681c"
      },
      "execution_count": null,
      "outputs": [
        {
          "output_type": "display_data",
          "data": {
            "text/plain": [
              "<Figure size 432x288 with 1 Axes>"
            ],
            "image/png": "[encoded data removed]"
          },
          "metadata": {
            "needs_background": "light"
          }
        }
      ]
    },
    {
      "cell_type": "code",
      "source": [
        "mse(y_true,y_pred)"
      ],
      "metadata": {
        "colab": {
          "base_uri": "https://localhost:8080/"
        },
        "id": "z5rODURPanN7",
        "outputId": "052dcb42-fe94-406e-f44d-fa1211d63ad4"
      },
      "execution_count": null,
      "outputs": [
        {
          "output_type": "execute_result",
          "data": {
            "text/plain": [
              "array([3.64388312])"
            ]
          },
          "metadata": {},
          "execution_count": 14
        }
      ]
    }
  ]
}